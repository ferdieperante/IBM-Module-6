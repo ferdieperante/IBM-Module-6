{
 "cells": [
  {
   "cell_type": "markdown",
   "id": "46369214-a81a-4616-bffa-17c95869f62d",
   "metadata": {},
   "source": [
    "# Data Science Tools and Ecosystem"
   ]
  },
  {
   "cell_type": "markdown",
   "id": "03d03ce3-1152-45d7-a83d-8e059d7f0e90",
   "metadata": {},
   "source": [
    "In this notebook, Data Science Tools and Ecosystem are summarized."
   ]
  },
  {
   "cell_type": "markdown",
   "id": "3319feed-03a3-4f4e-bbd6-3fd80f71ff74",
   "metadata": {
    "jupyter": {
     "source_hidden": true
    }
   },
   "source": [
    "__Objectives:__\n",
    "* List the popular languages in Data Science;\n",
    "* List the common libraries in Data Science;\n",
    "* List the common Data Science Tools."
   ]
  },
  {
   "cell_type": "markdown",
   "id": "0da8fa79-a63f-4d6a-ac8c-fef77ce117ca",
   "metadata": {},
   "source": [
    "## Author\n",
    "Ferdie Angelo Perante"
   ]
  },
  {
   "cell_type": "markdown",
   "id": "10c5d60c-05d2-4a8a-9a9d-bf5f19e646dc",
   "metadata": {},
   "source": [
    "Some of the popular languages that Data Scientists use are:\n",
    "1. Python\n",
    "2. R\n",
    "3. SQL"
   ]
  },
  {
   "cell_type": "markdown",
   "id": "9f55214a-03b2-4870-9554-0b501a7e628b",
   "metadata": {},
   "source": [
    "Some of the commonly used libraries used by Data Scientists include:\n",
    "1. Pandas\n",
    "2. NumPy\n",
    "3. Matplotlib"
   ]
  },
  {
   "cell_type": "markdown",
   "id": "6de55fe5-e37d-4565-913a-68565328306e",
   "metadata": {},
   "source": [
    "| Data Science Tools |\n",
    "| ------------------ |\n",
    "| Jupyter Lab        |\n",
    "| Jupyter Notebook   |\n",
    "| RStudio            |"
   ]
  },
  {
   "cell_type": "markdown",
   "id": "e64946e2-547a-4f5d-9326-fe7e1e7098f9",
   "metadata": {},
   "source": [
    "Below are a few examples of evaluating arithmetic expressions in Python"
   ]
  },
  {
   "cell_type": "code",
   "execution_count": 2,
   "id": "022fdfef-43f2-4d9f-ae32-8f44d8c23101",
   "metadata": {},
   "outputs": [
    {
     "data": {
      "text/plain": [
       "17"
      ]
     },
     "execution_count": 2,
     "metadata": {},
     "output_type": "execute_result"
    }
   ],
   "source": [
    "# This a simple arithmetic expression to mutiply then add integers\n",
    "(3*4)+5"
   ]
  },
  {
   "cell_type": "code",
   "execution_count": 3,
   "id": "34bfa74e-b912-4038-a4ef-c85914d6e833",
   "metadata": {},
   "outputs": [
    {
     "data": {
      "text/plain": [
       "3.3333333333333335"
      ]
     },
     "execution_count": 3,
     "metadata": {},
     "output_type": "execute_result"
    }
   ],
   "source": [
    "# This will convert 200 minutes to hours by diving by 60\n",
    "200 / 60"
   ]
  }
 ],
 "metadata": {
  "kernelspec": {
   "display_name": "Python 3 (ipykernel)",
   "language": "python",
   "name": "python3"
  },
  "language_info": {
   "codemirror_mode": {
    "name": "ipython",
    "version": 3
   },
   "file_extension": ".py",
   "mimetype": "text/x-python",
   "name": "python",
   "nbconvert_exporter": "python",
   "pygments_lexer": "ipython3",
   "version": "3.12.8"
  }
 },
 "nbformat": 4,
 "nbformat_minor": 5
}
